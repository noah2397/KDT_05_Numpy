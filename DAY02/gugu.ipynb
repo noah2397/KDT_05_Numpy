{
 "cells": [
  {
   "cell_type": "code",
   "execution_count": 51,
   "metadata": {},
   "outputs": [],
   "source": [
    "from bs4 import BeautifulSoup\n",
    "from selenium import webdriver\n",
    "from selenium.webdriver.common.by import By\n",
    "from PIL import Image\n",
    "import time\n",
    "\n",
    "driver=webdriver.Chrome()\n",
    "driver.get(\"http://www.grandculture.net/daegu/toc/GC40004533\")\n",
    "\n",
    "for i in range(1,5) :\n",
    "    driver.find_element(By.XPATH, f'//*[@id=\"content_category3\"]/div[1]/div[2]/div[2]/div/div/div/div/ul/li/span[{i}]').click()\n",
    "    element = driver.find_element(By.XPATH,'//*[@id=\"media-view\"]/img')\n",
    "\n",
    "    time.sleep(2)\n",
    "    # 전체 페이지 스크린샷 찍기\n",
    "    driver.save_screenshot(\"screenshot.png\")\n",
    "\n",
    "    # 요소 영역을 이미지로 자르기\n",
    "    left = 465\n",
    "    top = 645\n",
    "    right = 465 + 480\n",
    "    bottom = 645 + 327\n",
    "\n",
    "    image = Image.open(\"screenshot.png\")\n",
    "    element_image = image.crop((left, top, right, bottom))\n",
    "\n",
    "    # 이미지 저장\n",
    "    element_image.save(f\"{i}.png\")\n",
    "html=driver.page_source\n",
    "soup=BeautifulSoup(html,'html.parser')"
   ]
  },
  {
   "cell_type": "code",
   "execution_count": 52,
   "metadata": {},
   "outputs": [
    {
     "name": "stdout",
     "output_type": "stream",
     "text": [
      "항목 ID : GC40004533\n",
      "한자 : 國優敎會\n",
      "영어공식명칭 : Gugu Presbyterian Church\n",
      "분야 : 종교/기독교\n",
      "유형 : 기관 단체/기관 단체(일반)\n",
      "지역 : 대구광역시 북구 도남길 48[국우동 624]\n",
      "시대 : 현대/현대\n",
      "집필자 : 김병희\n"
     ]
    }
   ],
   "source": [
    "for i in soup.find(\"div\", id=\"pic_info_div\").find(\"tbody\").select(\"tr\") :\n",
    "    print(i.find(\"th\").text, end=\" : \")\n",
    "    if i.find(\"th\").text==\"집필자\" :\n",
    "        print(i.find(\"a\").text)\n",
    "    else :\n",
    "        print(i.find(\"td\").text)\n",
    "    "
   ]
  },
  {
   "cell_type": "code",
   "execution_count": 53,
   "metadata": {},
   "outputs": [
    {
     "name": "stdout",
     "output_type": "stream",
     "text": [
      "[정의]\n",
      "\n",
      "대구광역시 북구 국우동에 있는 한국기독교장로회 소속 교회.\n",
      "\n",
      "[설립 목적]\n",
      "\n",
      "국우교회는 하나님이 기뻐하는 아름다운 연합과 교제를 통하여 따뜻한 우애를 나누는 공동체를 목표로 설립되었다.\n",
      "\n",
      "[변천]\n",
      "1938년 대한예수교장로회 경북노회 전도부에서 김태련(金兌鍊) 전도사를 파송하여 각처에 열심히 전도한 결과 칠곡(漆谷) 국우동(國隅洞)에 국우교회가 설립되었다. 해방 이후 1952년 12월 18일 경북노회로부터 ‘국우교회(國優敎會)’로 명칭을 허락받았다. 1953년 6월 10일 한국기독교장로회에 합류하면서 1954년 12월 14일 대한예수교장로회 경북노회를 탈퇴하였다.\n",
      "\n",
      "[주요 사업과 업무(활동 사항)]\n",
      "주요 활동은 새가족반, 회복 캠프, 양육반, 은사 발견 트레이닝, 제자 학교, 리더 캠프, 세계 비전 제자 대학 등의 양육 훈련을 진행하며, 영어부 주일학교, 국우 성서 학당 등 다양한 행사를 운영하고 있다.\n",
      "\n",
      "[현황]\n",
      "\n",
      "국우교회는 담임목사 정종근 목사를 비롯하여 시무 장로 1명, 원로 장로 4명, 은퇴 장로 2명, 교인 등으로 이루어져 있으며, 어린이부, 학생부, 남녀전도회 등으로 구성되어 있다. 국우교회는 대구광역시 북구 국우동 624에 자리하고 있다.\n",
      "\n",
      "[의의와 평가]\n",
      "\n",
      "국우교회는 대구광역시 북구 국우동의 개신교 성장 과정과 지역사회에서 한국기독교장로회를 연구하는 데 필요한 교회이다.\n",
      "\n"
     ]
    }
   ],
   "source": [
    "content = soup.select(\"#content_category3 > div.info_div > div > p\")\n",
    "for i,v in enumerate(content):\n",
    "    print(f\"{v.text}\")\n",
    "    if i%2 : print()"
   ]
  },
  {
   "cell_type": "code",
   "execution_count": null,
   "metadata": {},
   "outputs": [],
   "source": []
  }
 ],
 "metadata": {
  "kernelspec": {
   "display_name": "My_38",
   "language": "python",
   "name": "python3"
  },
  "language_info": {
   "codemirror_mode": {
    "name": "ipython",
    "version": 3
   },
   "file_extension": ".py",
   "mimetype": "text/x-python",
   "name": "python",
   "nbconvert_exporter": "python",
   "pygments_lexer": "ipython3",
   "version": "3.8.18"
  }
 },
 "nbformat": 4,
 "nbformat_minor": 2
}
